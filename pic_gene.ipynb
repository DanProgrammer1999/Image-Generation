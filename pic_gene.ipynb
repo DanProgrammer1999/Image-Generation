{
 "cells": [
  {
   "cell_type": "code",
   "execution_count": 1,
   "metadata": {},
   "outputs": [],
   "source": [
    "from scipy import ndimage \n",
    "from PIL import Image, ImageDraw\n",
    "import numpy as np\n",
    "import matplotlib.pyplot as plt\n",
    "\n",
    "pic = Image.open('puzzle.png')\n",
    "pic_arr = np.array(pic)"
   ]
  },
  {
   "cell_type": "markdown",
   "metadata": {},
   "source": [
    "## Parameters"
   ]
  },
  {
   "cell_type": "code",
   "execution_count": 86,
   "metadata": {},
   "outputs": [],
   "source": [
    "population_size = 100\n",
    "generations_size = 100\n",
    "initial_generation_limit = 15\n",
    "\n",
    "#Figures\n",
    "color_transparency = 200\n",
    "## Circle\n",
    "min_radius = 3\n",
    "max_radius = 20\n",
    "## Polygons\n",
    "min_edge_length = 5\n",
    "max_edge_length = 15\n",
    "\n",
    "# Mutation\n",
    "mutation_chance = 0.4\n",
    "min_mutation_amount = 0.3\n",
    "max_mutation_amount = 1\n",
    "\n",
    "#Crossover\n",
    "max_crossover_amount = 100\n",
    "\n",
    "#Selection\n",
    "selection_percent = 0.25"
   ]
  },
  {
   "cell_type": "markdown",
   "metadata": {},
   "source": [
    "## Working with images"
   ]
  },
  {
   "cell_type": "code",
   "execution_count": 89,
   "metadata": {},
   "outputs": [],
   "source": [
    "def draw_circles(picture, data):\n",
    "    draw = ImageDraw.Draw(picture, 'RGBA')\n",
    "    for [(x, y), radius, color] in data:\n",
    "        draw.ellipse((x - radius, y - radius, x + radius, y + radius), fill=color)"
   ]
  },
  {
   "cell_type": "markdown",
   "metadata": {},
   "source": [
    "## Figure classes"
   ]
  },
  {
   "cell_type": "code",
   "execution_count": 99,
   "metadata": {},
   "outputs": [],
   "source": [
    "class Circle:\n",
    "    def __init__(self, center, radius, color):\n",
    "        x, y = center\n",
    "        self.points = [self.x - self.radius, self.y - self.radius, \n",
    "                      self.x + self.radius, self.y + self.radius]\n",
    "        self.radius = radius\n",
    "        self.color = color\n",
    "    \n",
    "    def draw(self, picture):\n",
    "        draw = ImageDraw.Draw(picture, 'RGB')\n",
    "        draw.ellipse(self.points, fill=self.color\n",
    "    \n",
    "    @staticmethod\n",
    "    def get_random():\n",
    "        radius = np.random.uniform(low=min_radius, high=max_radius)\n",
    "\n",
    "        x = np.random.randint(0, pic.size[0])\n",
    "        y = np.random.randint(0, pic.size[1])\n",
    "        color = (np.random.randint(256), np.random.randint(256), np.random.randint(256), color_transparency)\n",
    "        \n",
    "        return Circle((x, y), radius, color)\n",
    "    \n",
    "class Polygon:\n",
    "    def init(self, points, color):\n",
    "        self.points = points\n",
    "        self.color = color\n",
    "    \n",
    "    def draw(self, picture):\n",
    "        draw = ImageDraw.Draw(picture, 'RGB')\n",
    "        draw.polygon(self.points, fill=self.color)\n",
    "                     \n",
    "    @staticmethod\n",
    "    def get_random(n_vertices=3):\n",
    "        points = []\n",
    "        curr_point = (np.random.randint(0, pic.size[0]), np.random.randint(0, pic.size[0]))\n",
    "        points.append(curr_point)\n",
    "        for _ in range(n_vertices - 1):\n",
    "            new_point = (np.random.randint(curr_point[0], curr_point[0] + max_edge_length), \n",
    "                         np.random.randint(curr_point[1], curr_point[1] + max_edge_length))\n",
    "            curr_point = new_point\n",
    "            points.append(curr_point)\n",
    "        \n",
    "        color = (np.random.randint(256), np.random.randint(256), np.random.randint(256), color_transparency)\n",
    "        return Polygon(points, color)\n",
    "        "
   ]
  },
  {
   "cell_type": "markdown",
   "metadata": {},
   "source": [
    "## Chromosome class "
   ]
  },
  {
   "cell_type": "code",
   "execution_count": 98,
   "metadata": {},
   "outputs": [],
   "source": [
    "class Chromosome:    \n",
    "    def __init__(self, gene):\n",
    "        self.gene = np.array(gene)\n",
    "        self.picture = Image.fromarray(self.gene.astype('uint8'))\n",
    "        self.update_score()\n",
    "        \n",
    "    def mutate(self):\n",
    "        choice = np.random.rand()\n",
    "        if choice >= mutation_chance:\n",
    "            return\n",
    "        \n",
    "        min_mutation = min_mutation_amount*self.score\n",
    "        max_mutation = max_mutation_amount*self.score\n",
    "        mutation_amount = np.random.uniform(min_mutation, max_mutation)\n",
    "        to_draw = []\n",
    "\n",
    "        while mutation_amount >= min_radius:\n",
    "            radius = np.random.uniform(low=min_radius, high=max_radius)\n",
    "            mutation_amount -= radius\n",
    "\n",
    "            x = np.random.randint(0, pic.size[0])\n",
    "            y = np.random.randint(0, pic.size[1])\n",
    "#             color = (np.random.randint(256), np.random.randint(256), np.random.randint(256), color_transparency)\n",
    "            color = (np.random.randint(256), np.random.randint(256), np.random.randint(256))\n",
    "            \n",
    "            to_draw.append([(x,y), radius, color])\n",
    "    \n",
    "        draw_circles(self.picture, to_draw)\n",
    "        self.update_score()\n",
    "    \n",
    "    \n",
    "    def update_score(self, original=pic):\n",
    "        self.score = fitness_score(self.picture, original)\n",
    "    \n",
    "    @staticmethod\n",
    "    def get_random():\n",
    "        random_data = Chromosome.random_gene()\n",
    "        return Chromosome(random_data)\n",
    "        \n",
    "    @staticmethod\n",
    "    def random_gene():\n",
    "#         return np.random.randint(0, 256, pic_arr.shape)\n",
    "        return np.ones_like(pic_arr)*255\n",
    "    \n",
    "    def copy(self):\n",
    "        return Chromosome(self.gene)\n",
    "\n",
    "    def __eq__(self, other):\n",
    "        return self.score == other.score\n",
    "    \n",
    "    def __lt__(self, other):\n",
    "        return self.score < other.score\n",
    "    \n",
    "    def __repr__(self):\n",
    "        self.picture.show()\n",
    "        return str(self.score)\n"
   ]
  },
  {
   "cell_type": "markdown",
   "metadata": {},
   "source": [
    "## Utilities for the genetic algorithm"
   ]
  },
  {
   "cell_type": "code",
   "execution_count": 97,
   "metadata": {
    "scrolled": true
   },
   "outputs": [],
   "source": [
    "def fitness_score(current, original=pic):\n",
    "#     curr_grey = current.convert(\"L\")\n",
    "#     orig_grey = original.convert(\"L\")\n",
    "#     res = np.subtract(curr_grey, orig_grey)\n",
    "    res = np.subtract(current, original)\n",
    "    res = np.square(res)\n",
    "    return np.sum(res)/(current.size[0]*current.size[1])\n",
    "\n",
    "\n",
    "def cross_2(data1:Chromosome, data2:Chromosome):\n",
    "    return Chromosome((data1.gene + data2.gene)/2)\n",
    "        \n",
    "    \n",
    "def crossover(generation, n:int):\n",
    "    indexes = list(range(0, len(generation)))\n",
    "    if len(generation) > n:\n",
    "        to_cross = np.random.choice(indexes, n, replace=False)\n",
    "    else:\n",
    "        to_cross = indexes\n",
    "    \n",
    "    res = []\n",
    "    for i in range(1, len(to_cross)):\n",
    "        child = cross_2(generation[i - 1], generation[i])\n",
    "        res.append(child)\n",
    "    \n",
    "    return res\n",
    "    \n",
    "\n",
    "def mutation(generation):\n",
    "    for sample in generation:\n",
    "        sample.mutate()\n",
    "\n",
    "def selection(generation):\n",
    "    n_remove = int(selection_percent*len(generation))\n",
    "    return generation[: len(generation) - n_remove]\n",
    "\n"
   ]
  },
  {
   "cell_type": "code",
   "execution_count": null,
   "metadata": {},
   "outputs": [],
   "source": [
    "generation = [Chromosome.get_random() for _ in range(initial_generation_limit)]\n",
    "\n",
    "for i in range(generations_size):\n",
    "    cross_amount = np.random.randint(1, max_crossover_amount + 1)\n",
    "#     print(cross_amount, 'crossovers')\n",
    "    children = crossover(generation, cross_amount)\n",
    "    generation += children \n",
    "    \n",
    "    mutation(generation)\n",
    "    \n",
    "#     print('Before:', len(generation))\n",
    "    generation.sort()\n",
    "    generation = selection(generation)\n",
    "    while len(generation) > population_size:\n",
    "        generation.pop()\n",
    "#     print('After:', len(generation))\n",
    "#     print('Score:', generation[0].score)\n",
    "#     print()\n",
    "    if i > generations_size - 10:\n",
    "        print(generation[0])\n",
    "    \n",
    "print(generation[0])\n",
    "for i in range(len(generation)):\n",
    "    generation[i].picture.save('last_cycle/img{}.png'.format(str(i)))\n",
    "    \n",
    "generation[0].picture.save('result.png')"
   ]
  },
  {
   "cell_type": "code",
   "execution_count": 94,
   "metadata": {},
   "outputs": [],
   "source": [
    "# generation = [Chromosome.get_random() for _ in range(initial_generation_limit)]\n",
    "# generation[0].score\n",
    "generation = [Chromosome.get_random() for _ in range(initial_generation_limit)]\n",
    "draw = ImageDraw.Draw(pic, 'RGBA')\n",
    "draw.ellipse?"
   ]
  }
 ],
 "metadata": {
  "kernelspec": {
   "display_name": "Python 3",
   "language": "python",
   "name": "python3"
  },
  "language_info": {
   "codemirror_mode": {
    "name": "ipython",
    "version": 3
   },
   "file_extension": ".py",
   "mimetype": "text/x-python",
   "name": "python",
   "nbconvert_exporter": "python",
   "pygments_lexer": "ipython3",
   "version": "3.7.0"
  }
 },
 "nbformat": 4,
 "nbformat_minor": 2
}
